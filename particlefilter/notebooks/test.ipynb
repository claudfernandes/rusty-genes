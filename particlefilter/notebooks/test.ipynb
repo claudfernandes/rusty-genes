{
 "cells": [
  {
   "cell_type": "code",
   "execution_count": 2,
   "metadata": {},
   "outputs": [],
   "source": [
    "from collections import namedtuple"
   ]
  },
  {
   "cell_type": "code",
   "execution_count": 3,
   "metadata": {},
   "outputs": [],
   "source": [
    "Map = namedtuple('Map', 'x y i')\n",
    "\n",
    "# speed in m/s , turnrate in rad/s\n",
    "Control = namedtuple('Control', 'speed turnrate')\n",
    "\n",
    "# Observed landmark position the x and y distance in m relative to the vehicle\n",
    "# x - right is positive, y - forward is positive\n",
    "Observation = namedtuple('Observation', 'x y')\n",
    "\n",
    "# Global x and y positions in m, \n",
    "# theta  is global vehicle yaw (rad)\n",
    "GroundTruth = namedtuple('GroundTruth', 'x y theta')"
   ]
  },
  {
   "cell_type": "code",
   "execution_count": null,
   "metadata": {},
   "outputs": [],
   "source": []
  }
 ],
 "metadata": {
  "kernelspec": {
   "display_name": "Python 3",
   "language": "python",
   "name": "python3"
  },
  "language_info": {
   "codemirror_mode": {
    "name": "ipython",
    "version": 3
   },
   "file_extension": ".py",
   "mimetype": "text/x-python",
   "name": "python",
   "nbconvert_exporter": "python",
   "pygments_lexer": "ipython3",
   "version": "3.6.6"
  }
 },
 "nbformat": 4,
 "nbformat_minor": 2
}
